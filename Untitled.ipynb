{
 "cells": [
  {
   "cell_type": "markdown",
   "metadata": {},
   "source": [
    "Program Will prompt for Name, Wage, Hours\n",
    "\n",
    "Program Will print Name, Total, Day Income"
   ]
  },
  {
   "cell_type": "code",
   "execution_count": 3,
   "metadata": {},
   "outputs": [
    {
     "name": "stdin",
     "output_type": "stream",
     "text": [
      "What is your name?: Chris Abboud\n",
      "What was your hourly wage 15\n",
      "How many hours did you work? 2\n"
     ]
    },
    {
     "name": "stdout",
     "output_type": "stream",
     "text": [
      "\n",
      "Name:  Chris Abboud\n",
      "Total Daily Income:  30.0\n"
     ]
    }
   ],
   "source": [
    "Name = input(\"What is your name?:\")\n",
    "Wage = float(input(\"What was your hourly wage\"))\n",
    "Hours = float(input(\"How many hours did you work?\"))\n",
    "\n",
    "print()\n",
    "print(\"Name: \", Name)\n",
    "print(\"Total Daily Income: \", Hours * Wage)"
   ]
  },
  {
   "cell_type": "code",
   "execution_count": null,
   "metadata": {},
   "outputs": [],
   "source": []
  }
 ],
 "metadata": {
  "kernelspec": {
   "display_name": "Python 3",
   "language": "python",
   "name": "python3"
  },
  "language_info": {
   "codemirror_mode": {
    "name": "ipython",
    "version": 3
   },
   "file_extension": ".py",
   "mimetype": "text/x-python",
   "name": "python",
   "nbconvert_exporter": "python",
   "pygments_lexer": "ipython3",
   "version": "3.8.3"
  }
 },
 "nbformat": 4,
 "nbformat_minor": 4
}
