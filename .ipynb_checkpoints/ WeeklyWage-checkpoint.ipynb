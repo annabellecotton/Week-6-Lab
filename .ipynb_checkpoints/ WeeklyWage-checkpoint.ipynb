{
 "cells": [
  {
   "cell_type": "markdown",
   "metadata": {},
   "source": [
    "Program Will prompt for Name, Wage, Hours\n",
    "\n",
    "Program Will print Name, Total, Day Income"
   ]
  },
  {
   "cell_type": "code",
   "execution_count": null,
   "metadata": {},
   "outputs": [],
   "source": [
    "Name = input(\"What is your name?:\")\n",
    "total = 0\n",
    "DaysWorked = int(input(\"How many Days did you work this week?\"))\n",
    "\n",
    "for i in range(DaysWorked):\n",
    "    hours = float(input(\"How many hours did you work on Day #\" + str(i + 1)))\n",
    "    total+=hours\n",
    "    print(total)\n",
    "\n",
    "Wage = float(input(\"How much do you get paid per hour?\"))\n",
    "print()\n",
    "print(\"Name: \", Name)\n",
    "print(\"Total Weekly Income: \", total * Wage)"
   ]
  },
  {
   "cell_type": "code",
   "execution_count": null,
   "metadata": {},
   "outputs": [],
   "source": []
  },
  {
   "cell_type": "code",
   "execution_count": null,
   "metadata": {},
   "outputs": [],
   "source": []
  },
  {
   "cell_type": "code",
   "execution_count": null,
   "metadata": {},
   "outputs": [],
   "source": []
  }
 ],
 "metadata": {
  "kernelspec": {
   "display_name": "Python 3",
   "language": "python",
   "name": "python3"
  },
  "language_info": {
   "codemirror_mode": {
    "name": "ipython",
    "version": 3
   },
   "file_extension": ".py",
   "mimetype": "text/x-python",
   "name": "python",
   "nbconvert_exporter": "python",
   "pygments_lexer": "ipython3",
   "version": "3.8.3"
  }
 },
 "nbformat": 4,
 "nbformat_minor": 4
}
